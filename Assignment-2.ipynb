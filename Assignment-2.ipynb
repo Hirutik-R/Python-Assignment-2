{
 "cells": [
  {
   "cell_type": "markdown",
   "id": "e0cef3ca",
   "metadata": {},
   "source": [
    "# Python Assignment - 2 "
   ]
  },
  {
   "cell_type": "markdown",
   "id": "c3f83139",
   "metadata": {},
   "source": [
    "## Types of Inheritance in Python."
   ]
  },
  {
   "cell_type": "markdown",
   "id": "fe20049a",
   "metadata": {},
   "source": [
    "### 1). Single Inheritance."
   ]
  },
  {
   "cell_type": "code",
   "execution_count": 1,
   "id": "369b69c5",
   "metadata": {},
   "outputs": [
    {
     "name": "stdout",
     "output_type": "stream",
     "text": [
      "The funciton is in Parent class.\n",
      "The function is in Child class.\n"
     ]
    }
   ],
   "source": [
    "class parent:\n",
    "    def function_1(self):\n",
    "        print(\"The funciton is in Parent class.\")\n",
    "class children(parent):\n",
    "    def function_2(self):\n",
    "        print(\"The function is in Child class.\")\n",
    "obj = children()\n",
    "obj.function_1()\n",
    "obj.function_2()"
   ]
  },
  {
   "cell_type": "markdown",
   "id": "12724bb0",
   "metadata": {},
   "source": [
    "### 2). Multiple Inheritance."
   ]
  },
  {
   "cell_type": "code",
   "execution_count": 7,
   "id": "f913c3c7",
   "metadata": {},
   "outputs": [
    {
     "name": "stdout",
     "output_type": "stream",
     "text": [
      "Father's Name: Ramesh\n",
      "Mother's Name: Vanitha\n"
     ]
    }
   ],
   "source": [
    "class Mother:\n",
    "    mothername = \"\"\n",
    " \n",
    "    def mother(self):\n",
    "        print(self.mothername)\n",
    " \n",
    " \n",
    "class Father:\n",
    "    fathername = \"\"\n",
    " \n",
    "    def father(self):\n",
    "        print(self.fathername)\n",
    " \n",
    " \n",
    "class Son(Mother, Father):\n",
    "    def parents(self):\n",
    "        print(\"Father's Name:\", self.fathername)\n",
    "        print(\"Mother's Name:\", self.mothername)\n",
    " \n",
    " \n",
    "s1 = Son()\n",
    "s1.fathername = \"Ramesh\"\n",
    "s1.mothername = \"Vanitha\"\n",
    "s1.parents()"
   ]
  },
  {
   "cell_type": "markdown",
   "id": "4a71fa31",
   "metadata": {},
   "source": [
    "### 3). Multi-Level Inheritance."
   ]
  },
  {
   "cell_type": "code",
   "execution_count": 11,
   "id": "fbe154be",
   "metadata": {},
   "outputs": [
    {
     "name": "stdout",
     "output_type": "stream",
     "text": [
      "Ramachandran\n",
      "Grandfather's name : Ramachandran\n",
      "Father's name : Ramesh\n",
      "Son's name : Hirutik\n"
     ]
    }
   ],
   "source": [
    "class Grandfather:\n",
    " \n",
    "    def __init__(self, grandfathername):\n",
    "        self.grandfathername = grandfathername\n",
    " \n",
    " \n",
    "class Father(Grandfather):\n",
    "    def __init__(self, fathername, grandfathername):\n",
    "        self.fathername = fathername\n",
    "\n",
    "        Grandfather.__init__(self, grandfathername)\n",
    " \n",
    "class Son(Father):\n",
    "    def __init__(self, sonname, fathername, grandfathername):\n",
    "        self.sonname = sonname\n",
    " \n",
    "        \n",
    "        Father.__init__(self, fathername, grandfathername)\n",
    " \n",
    "    def print_name(self):\n",
    "        print(\"Grandfather's name :\", self.grandfathername)\n",
    "        print(\"Father's name :\", self.fathername)\n",
    "        print(\"Son's name :\", self.sonname)\n",
    " \n",
    " \n",
    "\n",
    "s1 = Son('Hirutik', 'Ramesh', 'Ramachandran')\n",
    "print(s1.grandfathername)\n",
    "s1.print_name()"
   ]
  },
  {
   "cell_type": "markdown",
   "id": "cb86e7d3",
   "metadata": {},
   "source": [
    "### 4). Hierarchical Inheritance."
   ]
  },
  {
   "cell_type": "code",
   "execution_count": 12,
   "id": "8ca5adda",
   "metadata": {},
   "outputs": [
    {
     "name": "stdout",
     "output_type": "stream",
     "text": [
      "The function is in Parent class.\n",
      "The function is in Second Child.\n",
      "The function is in Parent class.\n",
      "The function is in First Child.\n"
     ]
    }
   ],
   "source": [
    "class Parent:\n",
    "    def func1(self):\n",
    "        print(\"The function is in Parent class.\")\n",
    " \n",
    " \n",
    "class Child1(Parent):\n",
    "    def func2(self):\n",
    "        print(\"The function is in Second Child.\")\n",
    " \n",
    " \n",
    "class Child2(Parent):\n",
    "    def func3(self):\n",
    "        print(\"The function is in First Child.\")\n",
    " \n",
    "object1 = Child1()\n",
    "object2 = Child2()\n",
    "object1.func1()\n",
    "object1.func2()\n",
    "object2.func1()\n",
    "object2.func3()"
   ]
  },
  {
   "cell_type": "markdown",
   "id": "fd59ee4f",
   "metadata": {},
   "source": [
    "### 5). Hybrid Inheritance."
   ]
  },
  {
   "cell_type": "code",
   "execution_count": 13,
   "id": "45b937b8",
   "metadata": {},
   "outputs": [
    {
     "name": "stdout",
     "output_type": "stream",
     "text": [
      "The function is in College.\n",
      "The function is in Student 1. \n"
     ]
    }
   ],
   "source": [
    "class School:\n",
    "    def func1(self):\n",
    "        print(\"The function is in College.\")\n",
    " \n",
    " \n",
    "class Student1(School):\n",
    "    def func2(self):\n",
    "        print(\"The function is in Student 1. \")\n",
    " \n",
    " \n",
    "class Student2(School):\n",
    "    def func3(self):\n",
    "        print(\"The function is in Student 2.\")\n",
    " \n",
    " \n",
    "class Student3(Student1, School):\n",
    "    def func4(self):\n",
    "        print(\"The function is in Student 3.\")\n",
    " \n",
    "object = Student3()\n",
    "object.func1()\n",
    "object.func2()"
   ]
  },
  {
   "cell_type": "markdown",
   "id": "36ba6cbc",
   "metadata": {},
   "source": [
    "## Exception Handling in Python."
   ]
  },
  {
   "cell_type": "markdown",
   "id": "5e20f2c5",
   "metadata": {},
   "source": [
    "### 1). ZeroDivisionError."
   ]
  },
  {
   "cell_type": "code",
   "execution_count": 15,
   "id": "c60aa7da",
   "metadata": {},
   "outputs": [
    {
     "name": "stdout",
     "output_type": "stream",
     "text": [
      "ERROR OCCURRED !!!\n",
      "10000\n"
     ]
    }
   ],
   "source": [
    "marks = 10000\n",
    "try:\n",
    "    a = marks / 0 \n",
    "    print(a)\n",
    "except:\n",
    "    print (\"ERROR OCCURRED !!!\")\n",
    "    print(marks)"
   ]
  },
  {
   "cell_type": "markdown",
   "id": "57757834",
   "metadata": {},
   "source": [
    "### 2). Unexpected Indent"
   ]
  },
  {
   "cell_type": "code",
   "execution_count": 18,
   "id": "83b513ff",
   "metadata": {},
   "outputs": [
    {
     "name": "stdout",
     "output_type": "stream",
     "text": [
      "Third element = 2\n",
      "ERROR OCCURRED !!!\n"
     ]
    }
   ],
   "source": [
    "a = [1, 2, 3]\n",
    "try: \n",
    "    print (\"Third element = %d\" %(a[1]))\n",
    "    print (\"Fourth element = %d\" %(a[3]))\n",
    "except:\n",
    "    print (\"ERROR OCCURRED !!!\")"
   ]
  },
  {
   "cell_type": "markdown",
   "id": "6a135d7f",
   "metadata": {},
   "source": [
    "### 3). Value Error."
   ]
  },
  {
   "cell_type": "code",
   "execution_count": 24,
   "id": "353f811a",
   "metadata": {},
   "outputs": [
    {
     "name": "stdout",
     "output_type": "stream",
     "text": [
      "Please enter a number: Two\n",
      "INVALID NUMBER!! TRY AGAIN\n",
      "Please enter a number: 2\n"
     ]
    }
   ],
   "source": [
    "while True:\n",
    "    try:\n",
    "        x = int(input(\"Please Enter a Number: \"))\n",
    "        break\n",
    "    except ValueError:\n",
    "            print(\"INVALID NUMBER!! TRY AGAIN\")"
   ]
  },
  {
   "cell_type": "markdown",
   "id": "65450c30",
   "metadata": {},
   "source": [
    "### 4). File Opening Error."
   ]
  },
  {
   "cell_type": "code",
   "execution_count": 35,
   "id": "5be4f526",
   "metadata": {},
   "outputs": [
    {
     "name": "stdout",
     "output_type": "stream",
     "text": [
      "SOMETHING WENT WRONG!! FILE NOT OPENING.\n"
     ]
    }
   ],
   "source": [
    "try:\n",
    "    f = open(\"demofile.txt\")\n",
    "    try:\n",
    "        f.write(\"Lorum Ipsum\")\n",
    "    except:\n",
    "        print(\"SOMETHING WENT WRONG!! FILE NOT OPENING.\")\n",
    "    finally:\n",
    "        f.close()\n",
    "except:           \n",
    "        print(\"SOMETHING WENT WRONG!! FILE NOT OPENING.\")"
   ]
  },
  {
   "cell_type": "markdown",
   "id": "5d5a0ade",
   "metadata": {},
   "source": [
    "### 5). IndentationError."
   ]
  },
  {
   "cell_type": "code",
   "execution_count": 42,
   "id": "0422d58d",
   "metadata": {},
   "outputs": [
    {
     "name": "stdout",
     "output_type": "stream",
     "text": [
      "29\n"
     ]
    }
   ],
   "source": [
    "a = 10\n",
    "try:\n",
    "     b = 19\n",
    "     c = a+b\n",
    "except:\n",
    "    print(\"INDENTATION ERROR!! PLEASE CORRECT IT\")\n",
    "print(c)\n"
   ]
  },
  {
   "cell_type": "markdown",
   "id": "ba5f4c86",
   "metadata": {},
   "source": [
    "### 6). Name Error."
   ]
  },
  {
   "cell_type": "code",
   "execution_count": 44,
   "id": "f5930d12",
   "metadata": {},
   "outputs": [
    {
     "name": "stdout",
     "output_type": "stream",
     "text": [
      "Variable s is not defined properly\n"
     ]
    }
   ],
   "source": [
    "try:\n",
    "    print(s)\n",
    "except NameError:\n",
    "    print(\"Variable s is not defined properly\")\n",
    "except:\n",
    "    print(\"Something else went wrong\")"
   ]
  },
  {
   "cell_type": "markdown",
   "id": "c8464000",
   "metadata": {},
   "source": [
    "## Regular Expression in Python."
   ]
  },
  {
   "cell_type": "markdown",
   "id": "bb9f88e4",
   "metadata": {},
   "source": [
    "### Findall()"
   ]
  },
  {
   "cell_type": "code",
   "execution_count": 45,
   "id": "c15b930f",
   "metadata": {},
   "outputs": [
    {
     "name": "stdout",
     "output_type": "stream",
     "text": [
      "['ai', 'ai']\n"
     ]
    }
   ],
   "source": [
    "import re\n",
    "\n",
    "word = \"No Pain No Gain\"\n",
    "x = re.findall(\"ai\", word)\n",
    "print(x)"
   ]
  },
  {
   "cell_type": "markdown",
   "id": "ada19b4d",
   "metadata": {},
   "source": [
    "### Search()"
   ]
  },
  {
   "cell_type": "code",
   "execution_count": 51,
   "id": "456c9fcd",
   "metadata": {},
   "outputs": [
    {
     "name": "stdout",
     "output_type": "stream",
     "text": [
      "The located in position: 1\n"
     ]
    }
   ],
   "source": [
    "import re\n",
    "\n",
    "par = \"I Love Python\"\n",
    "x = re.search(\"\\s\", par)\n",
    "print(\"The located in position:\", x.start())"
   ]
  },
  {
   "cell_type": "markdown",
   "id": "54d52c6a",
   "metadata": {},
   "source": [
    "### Split()"
   ]
  },
  {
   "cell_type": "code",
   "execution_count": 53,
   "id": "c24d4c36",
   "metadata": {},
   "outputs": [
    {
     "name": "stdout",
     "output_type": "stream",
     "text": [
      "['My', 'Name', 'is', 'Hirutik']\n"
     ]
    }
   ],
   "source": [
    "import re\n",
    "sen = \"My Name is Hirutik\"\n",
    "x = re.split(\"\\s\", sen)\n",
    "print(x)"
   ]
  },
  {
   "cell_type": "markdown",
   "id": "c3985199",
   "metadata": {},
   "source": [
    "### Sub()"
   ]
  },
  {
   "cell_type": "code",
   "execution_count": 59,
   "id": "b81429cc",
   "metadata": {},
   "outputs": [
    {
     "name": "stdout",
     "output_type": "stream",
     "text": [
      "Hirutik/B.Teck/AI&DS\n"
     ]
    }
   ],
   "source": [
    "import re\n",
    "part = \"Hirutik B.Teck AI&DS\"\n",
    "x = re.sub(\"\\s\", \"/\", part)\n",
    "print(x)"
   ]
  },
  {
   "cell_type": "markdown",
   "id": "6b37abe0",
   "metadata": {},
   "source": [
    "## Aggregate Functions in Python."
   ]
  },
  {
   "cell_type": "markdown",
   "id": "ccd4895a",
   "metadata": {},
   "source": [
    "### Largest Elements of two Arrays."
   ]
  },
  {
   "cell_type": "code",
   "execution_count": 60,
   "id": "379ab0af",
   "metadata": {},
   "outputs": [
    {
     "name": "stdout",
     "output_type": "stream",
     "text": [
      "[2 3 4 6 7]\n"
     ]
    }
   ],
   "source": [
    "import numpy as np\n",
    "arr1 = np.array([1,2,3,4,5])\n",
    "arr1\n",
    "b = np.array([2,3,4,6,7])\n",
    "print(b)"
   ]
  },
  {
   "cell_type": "markdown",
   "id": "d2422c54",
   "metadata": {},
   "source": [
    "### 2-Dimensional Arrays."
   ]
  },
  {
   "cell_type": "code",
   "execution_count": 61,
   "id": "3a50ad9f",
   "metadata": {},
   "outputs": [
    {
     "data": {
      "text/plain": [
       "array([[1, 2, 3],\n",
       "       [4, 5, 6],\n",
       "       [7, 8, 9]])"
      ]
     },
     "execution_count": 61,
     "metadata": {},
     "output_type": "execute_result"
    }
   ],
   "source": [
    "arr2 = np.array([[1,2,3],[4,5,6],[7,8,9]])\n",
    "arr2"
   ]
  },
  {
   "cell_type": "markdown",
   "id": "f2f98b05",
   "metadata": {},
   "source": [
    "### Sum Function."
   ]
  },
  {
   "cell_type": "code",
   "execution_count": 63,
   "id": "0a90b230",
   "metadata": {},
   "outputs": [
    {
     "data": {
      "text/plain": [
       "369"
      ]
     },
     "execution_count": 63,
     "metadata": {},
     "output_type": "execute_result"
    }
   ],
   "source": [
    "ar1=np.array([21,45,87,34,90,4,23,65])\n",
    "ar1.sum()"
   ]
  },
  {
   "cell_type": "markdown",
   "id": "86ec9ba8",
   "metadata": {},
   "source": [
    "### Sum of Columns."
   ]
  },
  {
   "cell_type": "code",
   "execution_count": 65,
   "id": "c24cfc04",
   "metadata": {},
   "outputs": [
    {
     "data": {
      "text/plain": [
       "array([12, 15, 18])"
      ]
     },
     "execution_count": 65,
     "metadata": {},
     "output_type": "execute_result"
    }
   ],
   "source": [
    "arr2 = np.array([[1,2,3],[4,5,6],[7,8,9]])\n",
    "arr2.sum(axis = 0)"
   ]
  },
  {
   "cell_type": "markdown",
   "id": "59a781fe",
   "metadata": {},
   "source": [
    "### Sum of Rows."
   ]
  },
  {
   "cell_type": "code",
   "execution_count": 66,
   "id": "bd9d1757",
   "metadata": {},
   "outputs": [
    {
     "data": {
      "text/plain": [
       "array([ 6, 15, 24])"
      ]
     },
     "execution_count": 66,
     "metadata": {},
     "output_type": "execute_result"
    }
   ],
   "source": [
    "arr2 = np.array([[1,2,3],[4,5,6],[7,8,9]])\n",
    "arr2.sum(axis = 1)"
   ]
  },
  {
   "cell_type": "markdown",
   "id": "3689fbf0",
   "metadata": {},
   "source": [
    "### Product Function."
   ]
  },
  {
   "cell_type": "code",
   "execution_count": 68,
   "id": "4878dca2",
   "metadata": {},
   "outputs": [
    {
     "data": {
      "text/plain": [
       "120"
      ]
     },
     "execution_count": 68,
     "metadata": {},
     "output_type": "execute_result"
    }
   ],
   "source": [
    "arr1 = np.array([1,2,3,4,5])\n",
    "np.prod(arr1)"
   ]
  },
  {
   "cell_type": "markdown",
   "id": "204ecb43",
   "metadata": {},
   "source": [
    "### Product of Columns."
   ]
  },
  {
   "cell_type": "code",
   "execution_count": 69,
   "id": "036f5e96",
   "metadata": {},
   "outputs": [
    {
     "data": {
      "text/plain": [
       "array([ 28,  80, 162])"
      ]
     },
     "execution_count": 69,
     "metadata": {},
     "output_type": "execute_result"
    }
   ],
   "source": [
    "arr2 = np.array([[1,2,3],[4,5,6],[7,8,9]])\n",
    "np.product(arr2,axis = 0)"
   ]
  },
  {
   "cell_type": "markdown",
   "id": "e2ee0208",
   "metadata": {},
   "source": [
    "### Product of Rows."
   ]
  },
  {
   "cell_type": "code",
   "execution_count": 70,
   "id": "57768ee1",
   "metadata": {},
   "outputs": [
    {
     "data": {
      "text/plain": [
       "array([  6, 120, 504])"
      ]
     },
     "execution_count": 70,
     "metadata": {},
     "output_type": "execute_result"
    }
   ],
   "source": [
    "arr2 = np.array([[1,2,3],[4,5,6],[7,8,9]])\n",
    "np.prod(arr2,axis = 1)"
   ]
  },
  {
   "cell_type": "markdown",
   "id": "d8aba1eb",
   "metadata": {},
   "source": [
    "### Average Function."
   ]
  },
  {
   "cell_type": "code",
   "execution_count": 71,
   "id": "adeef459",
   "metadata": {},
   "outputs": [
    {
     "data": {
      "text/plain": [
       "3.0"
      ]
     },
     "execution_count": 71,
     "metadata": {},
     "output_type": "execute_result"
    }
   ],
   "source": [
    "arr1 = np.array([1,2,3,4,5])\n",
    "np.average(arr1)"
   ]
  },
  {
   "cell_type": "markdown",
   "id": "7c859a7e",
   "metadata": {},
   "source": [
    "### Average of Columns."
   ]
  },
  {
   "cell_type": "code",
   "execution_count": 73,
   "id": "e805e623",
   "metadata": {},
   "outputs": [
    {
     "data": {
      "text/plain": [
       "array([4., 5., 6.])"
      ]
     },
     "execution_count": 73,
     "metadata": {},
     "output_type": "execute_result"
    }
   ],
   "source": [
    "arr2 = np.array([[1,2,3],[4,5,6],[7,8,9]])\n",
    "np.average(arr2,axis =0)"
   ]
  },
  {
   "cell_type": "markdown",
   "id": "eb7513a7",
   "metadata": {},
   "source": [
    "### Average of Rows."
   ]
  },
  {
   "cell_type": "code",
   "execution_count": 74,
   "id": "ae305f6e",
   "metadata": {},
   "outputs": [
    {
     "data": {
      "text/plain": [
       "array([2., 5., 8.])"
      ]
     },
     "execution_count": 74,
     "metadata": {},
     "output_type": "execute_result"
    }
   ],
   "source": [
    "arr2 = np.array([[1,2,3],[4,5,6],[7,8,9]])\n",
    "np.average(arr2,axis = 1)"
   ]
  },
  {
   "cell_type": "markdown",
   "id": "b4d63183",
   "metadata": {},
   "source": [
    "### Minimum Function."
   ]
  },
  {
   "cell_type": "code",
   "execution_count": 76,
   "id": "acbd8682",
   "metadata": {},
   "outputs": [
    {
     "data": {
      "text/plain": [
       "1"
      ]
     },
     "execution_count": 76,
     "metadata": {},
     "output_type": "execute_result"
    }
   ],
   "source": [
    "arr1 = np.array([1,2,3,4,5])\n",
    "arr1.min()"
   ]
  },
  {
   "cell_type": "markdown",
   "id": "85905987",
   "metadata": {},
   "source": [
    "### Minimum Of Columns."
   ]
  },
  {
   "cell_type": "code",
   "execution_count": 77,
   "id": "ba4c41c3",
   "metadata": {},
   "outputs": [
    {
     "data": {
      "text/plain": [
       "array([1, 2, 3])"
      ]
     },
     "execution_count": 77,
     "metadata": {},
     "output_type": "execute_result"
    }
   ],
   "source": [
    "arr2 = np.array([[1,2,3],[4,5,6],[7,8,9]])\n",
    "arr2.min(axis = 0)"
   ]
  },
  {
   "cell_type": "markdown",
   "id": "a3f80d44",
   "metadata": {},
   "source": [
    "### Minimum of Rows."
   ]
  },
  {
   "cell_type": "code",
   "execution_count": 79,
   "id": "a30c3163",
   "metadata": {},
   "outputs": [
    {
     "data": {
      "text/plain": [
       "array([1, 4, 7])"
      ]
     },
     "execution_count": 79,
     "metadata": {},
     "output_type": "execute_result"
    }
   ],
   "source": [
    "arr2 = np.array([[1,2,3],[4,5,6],[7,8,9]])\n",
    "arr2.min(axis = 1)"
   ]
  },
  {
   "cell_type": "markdown",
   "id": "1d6984cc",
   "metadata": {},
   "source": [
    "### Minimum of two matrices."
   ]
  },
  {
   "cell_type": "code",
   "execution_count": 82,
   "id": "c9da8625",
   "metadata": {},
   "outputs": [
    {
     "name": "stdout",
     "output_type": "stream",
     "text": [
      "[[4 5 6]\n",
      " [7 2 3]\n",
      " [9 9 3]]\n",
      "\n",
      "[[8 6 2]\n",
      " [6 7 7]\n",
      " [8 9 5]]\n",
      "\n",
      "THE MINIMUM MATRIX:\n",
      "[[4 5 2]\n",
      " [6 2 3]\n",
      " [8 9 3]]\n"
     ]
    }
   ],
   "source": [
    "import numpy as np\n",
    "x = np.random.randint(1, 10, size = (3,3))\n",
    "print(x)\n",
    "print()\n",
    " \n",
    "y = np.random.randint(1, 10, size = (3,3))\n",
    "print(y)\n",
    " \n",
    "print('\\nTHE MINIMUM MATRIX:')\n",
    "print(np.minimum(x, y))"
   ]
  },
  {
   "cell_type": "markdown",
   "id": "39e35e67",
   "metadata": {},
   "source": [
    "### Maximum of two matrices."
   ]
  },
  {
   "cell_type": "code",
   "execution_count": 83,
   "id": "bdc0302e",
   "metadata": {},
   "outputs": [
    {
     "name": "stdout",
     "output_type": "stream",
     "text": [
      "[[8 9 5]\n",
      " [7 5 1]\n",
      " [2 4 9]]\n",
      "\n",
      "[[4 2 5]\n",
      " [4 8 3]\n",
      " [3 6 1]]\n",
      "\n",
      "THE MAXIMUM MATRIX:\n",
      "[[8 9 5]\n",
      " [7 8 3]\n",
      " [3 6 9]]\n"
     ]
    }
   ],
   "source": [
    "import numpy as np\n",
    "x = np.random.randint(1, 10, size = (3,3))\n",
    "print(x)\n",
    "print()\n",
    " \n",
    "y = np.random.randint(1, 10, size = (3,3))\n",
    "print(y)\n",
    " \n",
    "print('\\nTHE MAXIMUM MATRIX:')\n",
    "print(np.maximum(x, y))"
   ]
  },
  {
   "cell_type": "markdown",
   "id": "82630e4f",
   "metadata": {},
   "source": [
    "### Mean Function."
   ]
  },
  {
   "cell_type": "code",
   "execution_count": 85,
   "id": "b296e8d8",
   "metadata": {},
   "outputs": [
    {
     "data": {
      "text/plain": [
       "3.0"
      ]
     },
     "execution_count": 85,
     "metadata": {},
     "output_type": "execute_result"
    }
   ],
   "source": [
    "arr1 = np.array([1,2,3,4,5])\n",
    "np.mean(arr1)"
   ]
  },
  {
   "cell_type": "code",
   "execution_count": 86,
   "id": "6a24764d",
   "metadata": {},
   "outputs": [
    {
     "data": {
      "text/plain": [
       "5.0"
      ]
     },
     "execution_count": 86,
     "metadata": {},
     "output_type": "execute_result"
    }
   ],
   "source": [
    "arr2 = np.array([[1,2,3],[4,5,6],[7,8,9]])\n",
    "np.mean(arr2)"
   ]
  },
  {
   "cell_type": "markdown",
   "id": "0d70cf44",
   "metadata": {},
   "source": [
    "### Median Function."
   ]
  },
  {
   "cell_type": "code",
   "execution_count": 87,
   "id": "32408019",
   "metadata": {},
   "outputs": [
    {
     "data": {
      "text/plain": [
       "3.0"
      ]
     },
     "execution_count": 87,
     "metadata": {},
     "output_type": "execute_result"
    }
   ],
   "source": [
    "arr1 = np.array([1,2,3,4,5])\n",
    "np.median(arr1)"
   ]
  },
  {
   "cell_type": "code",
   "execution_count": 88,
   "id": "49c86ee0",
   "metadata": {},
   "outputs": [
    {
     "data": {
      "text/plain": [
       "5.0"
      ]
     },
     "execution_count": 88,
     "metadata": {},
     "output_type": "execute_result"
    }
   ],
   "source": [
    "arr2 = np.array([[1,2,3],[4,5,6],[7,8,9]])\n",
    "np.median(arr2)"
   ]
  },
  {
   "cell_type": "markdown",
   "id": "b77bb228",
   "metadata": {},
   "source": [
    "### Median of Columns."
   ]
  },
  {
   "cell_type": "code",
   "execution_count": 89,
   "id": "5cd1aa0b",
   "metadata": {},
   "outputs": [
    {
     "data": {
      "text/plain": [
       "array([4., 5., 6.])"
      ]
     },
     "execution_count": 89,
     "metadata": {},
     "output_type": "execute_result"
    }
   ],
   "source": [
    "arr2 = np.array([[1,2,3],[4,5,6],[7,8,9]])\n",
    "np.median(arr2, axis = 0)"
   ]
  },
  {
   "cell_type": "markdown",
   "id": "e16319af",
   "metadata": {},
   "source": [
    "### Median of Rows."
   ]
  },
  {
   "cell_type": "code",
   "execution_count": 90,
   "id": "cf7433f7",
   "metadata": {},
   "outputs": [
    {
     "data": {
      "text/plain": [
       "array([2., 5., 8.])"
      ]
     },
     "execution_count": 90,
     "metadata": {},
     "output_type": "execute_result"
    }
   ],
   "source": [
    "arr2 = np.array([[1,2,3],[4,5,6],[7,8,9]])\n",
    "np.median(arr2, axis = 1)"
   ]
  },
  {
   "cell_type": "markdown",
   "id": "def66301",
   "metadata": {},
   "source": [
    "### Variance Function."
   ]
  },
  {
   "cell_type": "code",
   "execution_count": 91,
   "id": "d112337c",
   "metadata": {},
   "outputs": [
    {
     "data": {
      "text/plain": [
       "2.0"
      ]
     },
     "execution_count": 91,
     "metadata": {},
     "output_type": "execute_result"
    }
   ],
   "source": [
    "arr1 = np.array([1,2,3,4,5])\n",
    "arr1.var()"
   ]
  },
  {
   "cell_type": "code",
   "execution_count": 92,
   "id": "b7b06014",
   "metadata": {},
   "outputs": [
    {
     "data": {
      "text/plain": [
       "6.666666666666667"
      ]
     },
     "execution_count": 92,
     "metadata": {},
     "output_type": "execute_result"
    }
   ],
   "source": [
    "arr2 = np.array([[1,2,3],[4,5,6],[7,8,9]])\n",
    "arr2.var()"
   ]
  }
 ],
 "metadata": {
  "kernelspec": {
   "display_name": "Python 3 (ipykernel)",
   "language": "python",
   "name": "python3"
  },
  "language_info": {
   "codemirror_mode": {
    "name": "ipython",
    "version": 3
   },
   "file_extension": ".py",
   "mimetype": "text/x-python",
   "name": "python",
   "nbconvert_exporter": "python",
   "pygments_lexer": "ipython3",
   "version": "3.9.12"
  }
 },
 "nbformat": 4,
 "nbformat_minor": 5
}
